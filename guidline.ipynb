{
 "cells": [
  {
   "cell_type": "markdown",
   "metadata": {},
   "source": [
    "<h2 align=right style=\"line-height:200%;font-family:vazir;color:#0099cc;\">\n",
    "    <font face=\"vazirmatn\" color=\"#0099cc\">\n",
    "           <b>ستارگان دودویی</b><br>",
    "          مسابقات بک اند گلرنگ/ \n",
    "    </font>\n",
    "</h2>\n",
    "\n",
    "<p dir=rtl style=\"direction: rtl;text-align: right;line-height:200%;font-family:vazir;font-size:medium\">\n",
    "    <font face=\"vazirmatn\" size=5>\n",
    "    ستاره‌های دودویی رشته‌های 0 و 1 را به روش خاص خودشان می‌سازند و نمایش می‌دهند.<br><br>\n",
    "    نمایش 0 به صورت زیر است:\n",
    "    </font>\n",
    "</p>"
   ]
  },
  {
   "cell_type": "markdown",
   "metadata": {},
   "source": [
    "<p>\n",
    "***<br>\n",
    "*.*<br>\n",
    "*** \n",
    "</p>"
   ]
  },
  {
   "cell_type": "markdown",
   "metadata": {},
   "source": [
    "<p dir=rtl style=\"direction: rtl;text-align: right;line-height:200%;font-family:vazir;font-size:medium\">\n",
    "    <font face=\"vazirmatn\" size=5>\n",
    "    نمایش 1 به صورت زیر است:\n",
    "    </font>\n",
    "</p>"
   ]
  },
  {
   "cell_type": "markdown",
   "metadata": {},
   "source": [
    "<p>\n",
    ".*.<br>\n",
    ".*.<br>\n",
    ".*.\n",
    "</p>"
   ]
  },
  {
   "cell_type": "markdown",
   "metadata": {},
   "source": [
    "<p dir=rtl style=\"direction: rtl;text-align: right;line-height:200%;font-family:vazir;font-size:medium\">\n",
    "    <font face=\"vazirmatn\" size=5>\n",
    "  حالا، یک رشته از اعداد 0 و 1 به شما داده می‌شود و می‌خواهیم نمایش آن را به صورت پشت سر هم به شیوه ستارگان گلرنگ ارائه دهیم.\n",
    "    </font>\n",
    "</p>"
   ]
  },
  {
   "cell_type": "markdown",
   "metadata": {},
   "source": [
    "<h3 align=right style=\"line-height:200%;font-family:vazir;color:#0099cc;\">\n",
    "    <font face=\"vazirmatn\" color=\"#0099cc\">\n",
    "        ورودی\n",
    "    </font>\n",
    "</h2>"
   ]
  },
  {
   "cell_type": "markdown",
   "metadata": {},
   "source": [
    "<p dir=rtl style=\"direction: rtl;text-align: right;line-height:200%;font-family:vazir;font-size:medium\">\n",
    "    <font face=\"vazirmatn\" size=5>\n",
    "  در سطر اول ورودی، عدد صحیح و مثبت n\n",
    "  داده می شود که تعداد کاراکترهای رشته را نشان می‌دهد\n",
    "    </font>\n",
    "</p>\n",
    "  <b>1≤n≤100</b> <br>\n",
    "  <p dir=rtl style=\"direction: rtl;text-align: right;line-height:200%;font-family:vazir;font-size:medium\">\n",
    "    <font face=\"vazirmatn\" size=5>\n",
    "  <p dir=rtl style=\"direction: rtl;text-align: right;line-height:200%;font-family:vazir;font-size:medium\">\n",
    "    <font face=\"vazirmatn\" size=5>\n",
    "  در سطر دوم، یک رشته از 0 و 1 به طول n\n",
    "  داده می شود\n",
    "    </font>\n",
    "</p>\n",
    "    </font>\n",
    "</p>\n"
   ]
  },
  {
   "cell_type": "markdown",
   "metadata": {},
   "source": [
    "<h3 align=right style=\"line-height:200%;font-family:vazir;color:#0099cc;\">\n",
    "    <font face=\"vazirmatn\" color=\"#0099cc\">\n",
    "        خروجی\n",
    "    </font>\n",
    "</h2>"
   ]
  },
  {
   "cell_type": "markdown",
   "metadata": {},
   "source": [
    "<p dir=rtl style=\"direction: rtl;text-align: right;line-height:200%;font-family:vazir;font-size:medium\">\n",
    "    <font face=\"vazirmatn\" size=5>\n",
    "    در سه سطر، رشته داده شده را به روش ستارگان گلرنگ نمایش دهید.\n ",
    "    \n نام فایل  : zeroAndone_stars.js ",     
    "    </font>\n",
    "</p>"
   ]
  }
 ],
 "metadata": {
  "kernelspec": {
   "display_name": ".NET (C#)",
   "language": "C#",
   "name": ".net-csharp"
  },
  "polyglot_notebook": {
   "kernelInfo": {
    "defaultKernelName": "javascript",
    "items": [
     {
      "aliases": [],
      "languageName": "javascript",
      "name": "javascript"
     }
    ]
   }
  }
 },
 "nbformat": 4,
 "nbformat_minor": 2
}
